{
  "nbformat": 4,
  "nbformat_minor": 0,
  "metadata": {
    "colab": {
      "provenance": []
    },
    "kernelspec": {
      "name": "python3",
      "display_name": "Python 3"
    },
    "language_info": {
      "name": "python"
    }
  },
  "cells": [
    {
      "cell_type": "code",
      "source": [
        "# @title Set parameters\n",
        "\n",
        "# Use the personal access token for authentication\n",
        "import os\n",
        "os.environ['GIT_ASKPASS'] = 'echo'\n",
        "os.environ['GIT_USERNAME'] = 'ammarisme'\n",
        "os.environ['GIT_PASSWORD'] = 'your_personal_access_token'\n",
        "os.environ['GIT_URL'] = 'github.com/ammarisme/google-drive-to-github.git'\n",
        "os.environ['GIT_BRANCH'] = 'main'\n",
        "drive_path = 'MyDrive/github/google-drive-to-github'\n",
        "repo_name = 'google-drive-to-github'"
      ],
      "metadata": {
        "id": "fJjDVoHn1qFC"
      },
      "execution_count": 14,
      "outputs": []
    },
    {
      "cell_type": "code",
      "execution_count": null,
      "metadata": {
        "id": "QLByoTO6kv-j"
      },
      "outputs": [],
      "source": [
        "!pip install nbconvert pdfkit"
      ]
    },
    {
      "cell_type": "code",
      "source": [
        "import nbformat\n",
        "from nbconvert import HTMLExporter, PDFExporter\n",
        "from nbconvert.preprocessors import ExecutePreprocessor\n",
        "import pdfkit"
      ],
      "metadata": {
        "id": "r7ZaUm6WkyHg"
      },
      "execution_count": 3,
      "outputs": []
    },
    {
      "cell_type": "code",
      "source": [
        "from google.colab import drive\n",
        "drive.mount('/content/drive')"
      ],
      "metadata": {
        "colab": {
          "base_uri": "https://localhost:8080/"
        },
        "id": "Xwj9jcKsk7fF",
        "outputId": "ce3bf5bf-5c01-435d-d812-069034131de3"
      },
      "execution_count": 4,
      "outputs": [
        {
          "output_type": "stream",
          "name": "stdout",
          "text": [
            "Mounted at /content/drive\n"
          ]
        }
      ]
    },
    {
      "cell_type": "code",
      "source": [
        "# Mount Google Drive\n",
        "from google.colab import drive\n",
        "drive.mount('/content/drive')\n",
        "\n",
        "# Clone the repository\n",
        "\n",
        "!git clone {os.environ['GIT_URL']}\n",
        "\n",
        "# Copy the contents from Google Drive to the repository\n",
        "!cp -r /content/drive/{drive_path}* {repo_name}/\n",
        "\n",
        "# Change directory to the repository\n",
        "%cd {repo_name}\n",
        "\n",
        "# Create a .gitignore file to exclude the input directory\n",
        "with open('.gitignore', 'a') as f:\n",
        "    f.write('\\ninput/\\n')\n",
        "\n",
        "# Configure Git user\n",
        "!git config --global user.email \"ammar.ofc@gmail.com\"\n",
        "!git config --global user.name \"Ammar Ameerdeen\"\n",
        "\n",
        "# Add and commit the changes\n",
        "!git add .\n",
        "!git commit -m \"Pushing from Colab\"\n",
        "\n",
        "\n",
        "# Push the changes to the main branch\n",
        "!git push https://{os.environ['GIT_USERNAME']}:{os.environ['GIT_PASSWORD']}@{os.environ['GIT_URL'] } {os.environ['GIT_BRANCH']}"
      ],
      "metadata": {
        "colab": {
          "base_uri": "https://localhost:8080/"
        },
        "id": "l0zggzpvrrFG",
        "outputId": "48c6e6ec-807e-40c0-820a-dcd0d789b2e0"
      },
      "execution_count": 16,
      "outputs": [
        {
          "output_type": "stream",
          "name": "stdout",
          "text": [
            "Drive already mounted at /content/drive; to attempt to forcibly remount, call drive.mount(\"/content/drive\", force_remount=True).\n",
            "fatal: repository 'github.com/ammarisme/google-drive-to-github.git' does not exist\n",
            "/content/google-drive-to-github/google-drive-to-github/google-drive-to-github/google-drive-to-github\n",
            "[main c6db8b7] Pushing from Colab\n",
            " 2 files changed, 3 insertions(+)\n",
            " create mode 100644 google-drive-to-github/google-drive-to-github/google-drive-to-github/.gitignore\n",
            " create mode 100644 google-drive-to-github/google-drive-to-github/google-drive-to-github/push-drive-to-github\n",
            "Enumerating objects: 17, done.\n",
            "Counting objects: 100% (17/17), done.\n",
            "Delta compression using up to 2 threads\n",
            "Compressing objects: 100% (15/15), done.\n",
            "Writing objects: 100% (16/16), 4.27 KiB | 2.14 MiB/s, done.\n",
            "Total 16 (delta 2), reused 1 (delta 0), pack-reused 0\n",
            "remote: Resolving deltas: 100% (2/2), done.\u001b[K\n",
            "remote: \u001b[1;31merror\u001b[m: GH013: Repository rule violations found for refs/heads/main.\u001b[K\n",
            "remote: \n",
            "remote: - GITHUB PUSH PROTECTION\u001b[K\n",
            "remote:   —————————————————————————————————————————\u001b[K\n",
            "remote:     Resolve the following violations before pushing again\u001b[K\n",
            "remote: \n",
            "remote:     - Push cannot contain secrets\u001b[K\n",
            "remote: \n",
            "remote:     \u001b[K\n",
            "remote:      (?) Learn how to resolve a blocked push\u001b[K\n",
            "remote:      https://docs.github.com/code-security/secret-scanning/pushing-a-branch-blocked-by-push-protection\u001b[K\n",
            "remote:     \u001b[K\n",
            "remote:     \u001b[K\n",
            "remote:       —— GitHub Personal Access Token ——————————————————————\u001b[K\n",
            "remote:        locations:\u001b[K\n",
            "remote:          - commit: 6c3a1c5349417bff249da7a752e08bb5f526c374\u001b[K\n",
            "remote:            path: google-drive-to-github/google-drive-to-github/push-drive-to-github:1\u001b[K\n",
            "remote:          - commit: 6dae6e63a8cd4ae7821929eee9407e1bacd07881\u001b[K\n",
            "remote:            path: google-drive-to-github/push-drive-to-github:1\u001b[K\n",
            "remote:     \u001b[K\n",
            "remote:        (?) To push, remove secret from commit(s) or follow this URL to allow the secret.\u001b[K\n",
            "remote:        https://github.com/ammarisme/google-drive-to-github/security/secret-scanning/unblock-secret/2jopAzKnlHiGUvvAcYpdLMBx9Yo\u001b[K\n",
            "remote:     \u001b[K\n",
            "remote: \n",
            "remote: \n",
            "To https://github.com/ammarisme/google-drive-to-github.git\n",
            " \u001b[31m! [remote rejected]\u001b[m main -> main (push declined due to repository rule violations)\n",
            "\u001b[31merror: failed to push some refs to 'https://github.com/ammarisme/google-drive-to-github.git'\n",
            "\u001b[m"
          ]
        }
      ]
    },
    {
      "cell_type": "code",
      "source": [],
      "metadata": {
        "id": "12eQRmDssgjI"
      },
      "execution_count": null,
      "outputs": []
    }
  ]
}